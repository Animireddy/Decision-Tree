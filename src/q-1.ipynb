{
 "cells": [
  {
   "cell_type": "code",
   "execution_count": 25,
   "metadata": {},
   "outputs": [],
   "source": [
    "import numpy as np\n",
    "import pandas as pd\n",
    "eps = np.finfo(float).eps\n",
    "from numpy import log2 as log"
   ]
  },
  {
   "cell_type": "code",
   "execution_count": 26,
   "metadata": {},
   "outputs": [],
   "source": [
    "dframe = pd.read_csv('decision_Tree/train.csv')"
   ]
  },
  {
   "cell_type": "code",
   "execution_count": 27,
   "metadata": {},
   "outputs": [
    {
     "data": {
      "text/plain": [
       "array(['sales', 'accounting', 'technical', 'management', 'IT',\n",
       "       'product_mng', 'marketing', 'RandD', 'support', 'hr'], dtype=object)"
      ]
     },
     "execution_count": 27,
     "metadata": {},
     "output_type": "execute_result"
    }
   ],
   "source": [
    "dframe.sales.unique()"
   ]
  },
  {
   "cell_type": "code",
   "execution_count": 28,
   "metadata": {},
   "outputs": [],
   "source": [
    "df = dframe[['Work_accident','promotion_last_5years','sales','salary','left']]"
   ]
  },
  {
   "cell_type": "code",
   "execution_count": 29,
   "metadata": {},
   "outputs": [
    {
     "data": {
      "text/plain": [
       "Index(['satisfaction_level', 'last_evaluation', 'number_project',\n",
       "       'average_montly_hours', 'time_spend_company', 'Work_accident', 'left',\n",
       "       'promotion_last_5years', 'sales', 'salary'],\n",
       "      dtype='object')"
      ]
     },
     "execution_count": 29,
     "metadata": {},
     "output_type": "execute_result"
    }
   ],
   "source": [
    "dframe.keys()"
   ]
  },
  {
   "cell_type": "code",
   "execution_count": 30,
   "metadata": {},
   "outputs": [],
   "source": [
    "def find_entropy(df):\n",
    "    Class = df.keys()[-1]   #To make the code generic, changing target variable class name\n",
    "    entropy = 0\n",
    "    values = df[Class].unique()\n",
    "    for value in values:\n",
    "        fraction = df[Class].value_counts()[value]/len(df[Class])\n",
    "        entropy += -fraction*np.log2(fraction)\n",
    "    return abs(entropy)\n",
    "def find_giniindex(df):\n",
    "    Class = df.keys()[-1]   #To make the code generic, changing target variable class name\n",
    "    entropy = 2\n",
    "    values = df[Class].unique()\n",
    "    for value in values:\n",
    "        fraction = df[Class].value_counts()[value]/len(df[Class])\n",
    "        entropy = entropy*fraction\n",
    "    return abs(entropy)\n",
    "def find_miscrate(df):\n",
    "    Class = df.keys()[-1]   #To make the code generic, changing target variable class name\n",
    "    entropy = float('inf')\n",
    "    values = df[Class].unique()\n",
    "    for value in values:\n",
    "        entropy = max(entropy,df[Class].value_counts()[value]/len(df[Class]))\n",
    "    return abs(entropy)"
   ]
  },
  {
   "cell_type": "code",
   "execution_count": 31,
   "metadata": {},
   "outputs": [],
   "source": [
    "def find_entropy_attribute(df,attribute):\n",
    "    Class = df.keys()[-1]   #To make the code generic, changing target variable class name\n",
    "    target_variables = df[Class].unique()  #This gives all 'Yes' and 'No'\n",
    "    variables = df[attribute].unique()    #This gives different features in that attribute (like 'Hot','Cold' in Temperature)\n",
    "    entropy2 = 0\n",
    "    for variable in variables:  #high low\n",
    "        entropy = 0\n",
    "        for target_variable in target_variables: #Yes No\n",
    "            num = len(df[attribute][df[attribute]==variable][df[Class] ==target_variable])\n",
    "            den = len(df[attribute][df[attribute]==variable])\n",
    "            fraction = num/(den+eps)\n",
    "            entropy += -fraction*log(fraction+eps)\n",
    "        fraction2 = len(df[attribute][df[attribute]==variable])/len(df)\n",
    "        entropy2 += -fraction2*entropy\n",
    "    return abs(entropy2)\n",
    "\n",
    "def find_giniindex_attribute(df,attribute):\n",
    "    Class = df.keys()[-1]   #To make the code generic, changing target variable class name\n",
    "    target_variables = df[Class].unique()  #This gives all 'Yes' and 'No'\n",
    "    variables = df[attribute].unique()    #This gives different features in that attribute (like 'Hot','Cold' in Temperature)\n",
    "    entropy2 = 0\n",
    "    for variable in variables:  #high low\n",
    "        entropy = 2\n",
    "        for target_variable in target_variables: #Yes No\n",
    "            num = len(df[attribute][df[attribute]==variable][df[Class] ==target_variable])\n",
    "            den = len(df[attribute][df[attribute]==variable])\n",
    "            fraction = num/(den+eps)\n",
    "            entropy = entropy*fraction\n",
    "        fraction2 = len(df[attribute][df[attribute]==variable])/len(df)\n",
    "        entropy2 += fraction2*entropy\n",
    "    return abs(entropy2)\n",
    "\n",
    "def find_miscrate_attribute(df,attribute):\n",
    "    Class = df.keys()[-1]   #To make the code generic, changing target variable class name\n",
    "    target_variables = df[Class].unique()  #This gives all 'Yes' and 'No'\n",
    "    variables = df[attribute].unique()    #This gives different features in that attribute (like 'Hot','Cold' in Temperature)\n",
    "    entropy2 = 0\n",
    "    for variable in variables:  #high low\n",
    "        entropy = float('inf')\n",
    "        for target_variable in target_variables: #Yes No\n",
    "            num = len(df[attribute][df[attribute]==variable][df[Class] ==target_variable])\n",
    "            den = len(df[attribute][df[attribute]==variable])\n",
    "            entropy = max(entropy,df[Class].value_counts()[target_variable]/len(df[Class]))\n",
    "        fraction2 = len(df[attribute][df[attribute]==variable])/len(df)\n",
    "        entropy2 += fraction2*entropy\n",
    "    return abs(entropy2)\n"
   ]
  },
  {
   "cell_type": "code",
   "execution_count": 32,
   "metadata": {},
   "outputs": [],
   "source": [
    "def find_winner(df,im):\n",
    "    Entropy_att = []\n",
    "    IG = []\n",
    "    ans = float('-inf')\n",
    "    out = df.keys()[-1]\n",
    "    for key in df.keys()[:-1]:\n",
    "#         Entropy_att.append(find_entropy_attribute(df,key))\n",
    "        if(im==0):\n",
    "            ans1 = max(find_entropy(df)-find_entropy_attribute(df,key),ans)\n",
    "        elif(im==1):\n",
    "            ans1 = max(find_giniindex(df)-find_giniindex_attribute(df,key),ans)\n",
    "        elif(im==2):\n",
    "            ans1 = max(find_miscrate(df)-find_miscrate_attribute(df,key),ans)\n",
    "        if(ans1!=ans):\n",
    "            ans = ans1\n",
    "            out = key\n",
    "    return out"
   ]
  },
  {
   "cell_type": "code",
   "execution_count": 33,
   "metadata": {},
   "outputs": [],
   "source": [
    "def get_subtable(df,node,value):\n",
    "    return df[df[node] == value].drop(node,axis=1)"
   ]
  },
  {
   "cell_type": "code",
   "execution_count": 34,
   "metadata": {},
   "outputs": [],
   "source": [
    "def dec_tree(df,im,tree=None):\n",
    "    Class = df.keys()[-1]\n",
    "    node = find_winner(df,im)\n",
    "    \n",
    "    attValue = df[node].unique()\n",
    "    \n",
    "    if tree is None:                    \n",
    "        tree={}\n",
    "        tree[node] = {}\n",
    "        root = node\n",
    "    for value in attValue:\n",
    "        #only table with low is o/p\n",
    "        subtable = get_subtable(df,node,value)\n",
    "\n",
    "        clValue = subtable.keys()[-1] \n",
    "        df11 = subtable.left.value_counts()\n",
    "        if(len(df11)==1):\n",
    "            tree[node][value] = df11.keys()[0]\n",
    "        elif len(subtable.columns)==1:#Checking purity of subset\n",
    "\n",
    "            df1 = subtable.left.value_counts()\n",
    "            if(len(df1)==1):\n",
    "                tree[node][value] = df1.keys()[0]\n",
    "            elif df1[0] > df1[1]:\n",
    "                tree[node][value] = 0\n",
    "            else:\n",
    "                tree[node][value] = 1\n",
    "        elif len(subtable.columns)==1:\n",
    "            tree[node][value] = subtable\n",
    "        else:        \n",
    "            tree[node][value] = dec_tree(subtable,im) #Calling the function recursively \n",
    "                   \n",
    "    return tree,root"
   ]
  },
  {
   "cell_type": "code",
   "execution_count": 35,
   "metadata": {},
   "outputs": [],
   "source": [
    "tree = dec_tree(df,0)"
   ]
  },
  {
   "cell_type": "code",
   "execution_count": 12,
   "metadata": {},
   "outputs": [
    {
     "name": "stdout",
     "output_type": "stream",
     "text": [
      "({'salary': {'high': ({'sales': {'IT': ({'Work_accident': {0: ({'promotion_last_5years': {0: 0}},\n",
      "                                                               'promotion_last_5years'),\n",
      "                                                           1: 0}},\n",
      "                                        'Work_accident'),\n",
      "                                 'RandD': ({'Work_accident': {0: ({'promotion_last_5years': {0: 0,\n",
      "                                                                                             1: 0}},\n",
      "                                                                  'promotion_last_5years'),\n",
      "                                                              1: 0}},\n",
      "                                           'Work_accident'),\n",
      "                                 'accounting': ({'Work_accident': {0: ({'promotion_last_5years': {0: 0,\n",
      "                                                                                                  1: 0}},\n",
      "                                                                       'promotion_last_5years'),\n",
      "                                                                   1: 0}},\n",
      "                                                'Work_accident'),\n",
      "                                 'hr': ({'Work_accident': {0: ({'promotion_last_5years': {0: 0,\n",
      "                                                                                          1: 0}},\n",
      "                                                               'promotion_last_5years'),\n",
      "                                                           1: 0}},\n",
      "                                        'Work_accident'),\n",
      "                                 'management': ({'promotion_last_5years': {0: ({'Work_accident': {0: 0,\n",
      "                                                                                                  1: 0}},\n",
      "                                                                               'Work_accident'),\n",
      "                                                                           1: 0}},\n",
      "                                                'promotion_last_5years'),\n",
      "                                 'marketing': ({'Work_accident': {0: ({'promotion_last_5years': {0: 0,\n",
      "                                                                                                 1: 0}},\n",
      "                                                                      'promotion_last_5years'),\n",
      "                                                                  1: 0}},\n",
      "                                               'Work_accident'),\n",
      "                                 'product_mng': ({'Work_accident': {0: ({'promotion_last_5years': {0: 0}},\n",
      "                                                                        'promotion_last_5years'),\n",
      "                                                                    1: 0}},\n",
      "                                                 'Work_accident'),\n",
      "                                 'sales': ({'Work_accident': {0: ({'promotion_last_5years': {0: 0,\n",
      "                                                                                             1: 0}},\n",
      "                                                                  'promotion_last_5years'),\n",
      "                                                              1: 0}},\n",
      "                                           'Work_accident'),\n",
      "                                 'support': ({'Work_accident': {0: ({'promotion_last_5years': {0: 0}},\n",
      "                                                                    'promotion_last_5years'),\n",
      "                                                                1: 0}},\n",
      "                                             'Work_accident'),\n",
      "                                 'technical': ({'Work_accident': {0: ({'promotion_last_5years': {0: 0}},\n",
      "                                                                      'promotion_last_5years'),\n",
      "                                                                  1: 0}},\n",
      "                                               'Work_accident')}},\n",
      "                      'sales'),\n",
      "             'low': ({'Work_accident': {0: ({'sales': {'IT': ({'promotion_last_5years': {0: 0,\n",
      "                                                                                         1: 1}},\n",
      "                                                              'promotion_last_5years'),\n",
      "                                                       'RandD': ({'promotion_last_5years': {0: 0,\n",
      "                                                                                            1: 0}},\n",
      "                                                                 'promotion_last_5years'),\n",
      "                                                       'accounting': ({'promotion_last_5years': {0: 0,\n",
      "                                                                                                 1: 0}},\n",
      "                                                                      'promotion_last_5years'),\n",
      "                                                       'hr': ({'promotion_last_5years': {0: 0,\n",
      "                                                                                         1: 0}},\n",
      "                                                              'promotion_last_5years'),\n",
      "                                                       'management': ({'promotion_last_5years': {0: 0,\n",
      "                                                                                                 1: 1}},\n",
      "                                                                      'promotion_last_5years'),\n",
      "                                                       'marketing': ({'promotion_last_5years': {0: 0,\n",
      "                                                                                                1: 0}},\n",
      "                                                                     'promotion_last_5years'),\n",
      "                                                       'product_mng': ({'promotion_last_5years': {0: 0}},\n",
      "                                                                       'promotion_last_5years'),\n",
      "                                                       'sales': ({'promotion_last_5years': {0: 0,\n",
      "                                                                                            1: 0}},\n",
      "                                                                 'promotion_last_5years'),\n",
      "                                                       'support': ({'promotion_last_5years': {0: 0,\n",
      "                                                                                              1: 0}},\n",
      "                                                                   'promotion_last_5years'),\n",
      "                                                       'technical': ({'promotion_last_5years': {0: 0,\n",
      "                                                                                                1: 0}},\n",
      "                                                                     'promotion_last_5years')}},\n",
      "                                            'sales'),\n",
      "                                        1: ({'sales': {'IT': ({'promotion_last_5years': {0: 0}},\n",
      "                                                              'promotion_last_5years'),\n",
      "                                                       'RandD': ({'promotion_last_5years': {0: 0,\n",
      "                                                                                            1: 0}},\n",
      "                                                                 'promotion_last_5years'),\n",
      "                                                       'accounting': ({'promotion_last_5years': {0: 0}},\n",
      "                                                                      'promotion_last_5years'),\n",
      "                                                       'hr': ({'promotion_last_5years': {0: 0}},\n",
      "                                                              'promotion_last_5years'),\n",
      "                                                       'management': ({'promotion_last_5years': {0: 0,\n",
      "                                                                                                 1: 0}},\n",
      "                                                                      'promotion_last_5years'),\n",
      "                                                       'marketing': ({'promotion_last_5years': {0: 0,\n",
      "                                                                                                1: 0}},\n",
      "                                                                     'promotion_last_5years'),\n",
      "                                                       'product_mng': ({'promotion_last_5years': {0: 0}},\n",
      "                                                                       'promotion_last_5years'),\n",
      "                                                       'sales': ({'promotion_last_5years': {0: 0,\n",
      "                                                                                            1: 1}},\n",
      "                                                                 'promotion_last_5years'),\n",
      "                                                       'support': ({'promotion_last_5years': {0: 0}},\n",
      "                                                                   'promotion_last_5years'),\n",
      "                                                       'technical': ({'promotion_last_5years': {0: 0,\n",
      "                                                                                                1: 0}},\n",
      "                                                                     'promotion_last_5years')}},\n",
      "                                            'sales')}},\n",
      "                     'Work_accident'),\n",
      "             'medium': ({'Work_accident': {0: ({'sales': {'IT': ({'promotion_last_5years': {0: 0,\n",
      "                                                                                            1: 1}},\n",
      "                                                                 'promotion_last_5years'),\n",
      "                                                          'RandD': ({'promotion_last_5years': {0: 0,\n",
      "                                                                                               1: 0}},\n",
      "                                                                    'promotion_last_5years'),\n",
      "                                                          'accounting': ({'promotion_last_5years': {0: 0,\n",
      "                                                                                                    1: 0}},\n",
      "                                                                         'promotion_last_5years'),\n",
      "                                                          'hr': ({'promotion_last_5years': {0: 0,\n",
      "                                                                                            1: 0}},\n",
      "                                                                 'promotion_last_5years'),\n",
      "                                                          'management': ({'promotion_last_5years': {0: 0,\n",
      "                                                                                                    1: 0}},\n",
      "                                                                         'promotion_last_5years'),\n",
      "                                                          'marketing': ({'promotion_last_5years': {0: 0,\n",
      "                                                                                                   1: 0}},\n",
      "                                                                        'promotion_last_5years'),\n",
      "                                                          'product_mng': ({'promotion_last_5years': {0: 0}},\n",
      "                                                                          'promotion_last_5years'),\n",
      "                                                          'sales': ({'promotion_last_5years': {0: 0,\n",
      "                                                                                               1: 0}},\n",
      "                                                                    'promotion_last_5years'),\n",
      "                                                          'support': ({'promotion_last_5years': {0: 0,\n",
      "                                                                                                 1: 0}},\n",
      "                                                                      'promotion_last_5years'),\n",
      "                                                          'technical': ({'promotion_last_5years': {0: 0,\n",
      "                                                                                                   1: 0}},\n",
      "                                                                        'promotion_last_5years')}},\n",
      "                                               'sales'),\n",
      "                                           1: ({'sales': {'IT': ({'promotion_last_5years': {0: 0}},\n",
      "                                                                 'promotion_last_5years'),\n",
      "                                                          'RandD': ({'promotion_last_5years': {0: 0,\n",
      "                                                                                               1: 0}},\n",
      "                                                                    'promotion_last_5years'),\n",
      "                                                          'accounting': ({'promotion_last_5years': {0: 0}},\n",
      "                                                                         'promotion_last_5years'),\n",
      "                                                          'hr': ({'promotion_last_5years': {0: 0,\n",
      "                                                                                            1: 0}},\n",
      "                                                                 'promotion_last_5years'),\n",
      "                                                          'management': ({'promotion_last_5years': {0: 0,\n",
      "                                                                                                    1: 0}},\n",
      "                                                                         'promotion_last_5years'),\n",
      "                                                          'marketing': ({'promotion_last_5years': {0: 0,\n",
      "                                                                                                   1: 0}},\n",
      "                                                                        'promotion_last_5years'),\n",
      "                                                          'product_mng': ({'promotion_last_5years': {0: 0}},\n",
      "                                                                          'promotion_last_5years'),\n",
      "                                                          'sales': ({'promotion_last_5years': {0: 0,\n",
      "                                                                                               1: 0}},\n",
      "                                                                    'promotion_last_5years'),\n",
      "                                                          'support': ({'promotion_last_5years': {0: 0,\n",
      "                                                                                                 1: 0}},\n",
      "                                                                      'promotion_last_5years'),\n",
      "                                                          'technical': ({'promotion_last_5years': {0: 0,\n",
      "                                                                                                   1: 0}},\n",
      "                                                                        'promotion_last_5years')}},\n",
      "                                               'sales')}},\n",
      "                        'Work_accident')}},\n",
      " 'salary')\n"
     ]
    }
   ],
   "source": [
    "import pprint\n",
    "pprint.pprint(tree)"
   ]
  },
  {
   "cell_type": "code",
   "execution_count": 36,
   "metadata": {},
   "outputs": [],
   "source": [
    "def run_on_set(input_set,tree):\n",
    "    results = []\n",
    "    root1 = list(tree)[0]\n",
    "    TN = 0\n",
    "    FP = 0\n",
    "    FN = 0\n",
    "    TP = 0\n",
    "    for entry in input_set.iterrows():\n",
    "        tempDict = tree\n",
    "#         print(tempDict)\n",
    "        root = root1\n",
    "        result = \"\"\n",
    "        while(1):\n",
    "            value = entry[1][root]  #low\n",
    "            if((value in tempDict[root])==False):\n",
    "                result = \"Null\"\n",
    "                break;\n",
    "            elif(tempDict[root][value]==0 or tempDict[root][value]==1):\n",
    "                result = tempDict[root][value]\n",
    "                break;\n",
    "            elif(value in df[root].values):\n",
    "                result = tempDict[root][value]\n",
    "                tempDict = tempDict[root][value]\n",
    "                tempDict = list(tempDict)[0]\n",
    "                root = list(list(result)[0])[0]\n",
    "            else:\n",
    "                result = \"Null\"\n",
    "                break\n",
    "        if result != \"Null\":\n",
    "            if(result == entry[1][\"left\"]):\n",
    "                if(result==0):\n",
    "                    TN+=1\n",
    "                else:\n",
    "                    TP+=1\n",
    "            else:\n",
    "                if(entry[1][\"left\"]==0):\n",
    "                    FP+=1\n",
    "                else:\n",
    "                    FN+=1\n",
    "                \n",
    "            results.append(result == entry[1][\"left\"])\n",
    "\n",
    "    accuracy = float(results.count(True))/float(len(results))\n",
    "    Recall = TP/(TP+FN+eps)\n",
    "    Precision = TP/(TP+FP+eps)\n",
    "    F1_score = 2/((1/Recall)+(1/Precision)+eps)\n",
    "    return accuracy,Precision,Recall,F1_score"
   ]
  },
  {
   "cell_type": "code",
   "execution_count": 37,
   "metadata": {},
   "outputs": [],
   "source": [
    "def run_decision_tree(df,im):\n",
    "#     K = 10\n",
    "#     attributes = list(df.keys())\n",
    "#     acc = []\n",
    "#     for k in range(K):\n",
    "    training_set = df.sample(frac=0.8)\n",
    "    test_set = df.sample(frac=0.2)\n",
    "    tree,root1 = dec_tree(training_set,im)\n",
    "    accuracy,Precision,Recall,F1_score = run_on_set(test_set,tree)\n",
    "    \n",
    "    #########################################\n",
    "    \n",
    "    accuracy1,Precision1,Recall1,F1_score1 = run_on_set(training_set,tree)\n",
    "    print(\"Accuracy: \" + str(accuracy))\n",
    "    print(\"Recall: \" + str(Recall))\n",
    "    print(\"Precision: \" + str(Precision))\n",
    "    print(\"F1_score: \" + str(F1_score))\n",
    "    return accuracy,accuracy1"
   ]
  },
  {
   "cell_type": "code",
   "execution_count": 38,
   "metadata": {},
   "outputs": [
    {
     "name": "stdout",
     "output_type": "stream",
     "text": [
      "Accuracy: 0.7538940809968847\n",
      "Recall: 0.0036101083032490976\n",
      "Precision: 0.6666666666666666\n",
      "F1_score: 0.00718132854578097\n"
     ]
    },
    {
     "data": {
      "text/plain": [
       "(0.7538940809968847, 0.7644048943270301)"
      ]
     },
     "execution_count": 38,
     "metadata": {},
     "output_type": "execute_result"
    }
   ],
   "source": [
    "run_decision_tree(df,0)"
   ]
  },
  {
   "cell_type": "code",
   "execution_count": 19,
   "metadata": {
    "scrolled": true
   },
   "outputs": [
    {
     "name": "stdout",
     "output_type": "stream",
     "text": [
      "Accuracy: 0.7596795727636849\n",
      "Recall: 0.0055248618784530384\n",
      "Precision: 1.0\n",
      "F1_score: 0.01098901098901099\n"
     ]
    },
    {
     "data": {
      "text/plain": [
       "(0.7596795727636849, 0.7664071190211346)"
      ]
     },
     "execution_count": 19,
     "metadata": {},
     "output_type": "execute_result"
    }
   ],
   "source": [
    "# df = dframe[['salary','left']]\n",
    "run_decision_tree(df,0)"
   ]
  },
  {
   "cell_type": "code",
   "execution_count": 20,
   "metadata": {},
   "outputs": [],
   "source": [
    "#tree = decision_tree\n",
    "#model_args = attributes\n",
    "#sample_test = file\n",
    "def predict(tree,test_sample):\n",
    "#     print(tree)\n",
    "    out = []\n",
    "    for entry in test_sample.iterrows():\n",
    "        tempDict = tree\n",
    "#         print(tempDict)\n",
    "        root = list(tempDict)[0] #salary\n",
    "#         print(root)\n",
    "        result = \"\"\n",
    "        while(1):\n",
    "            value = entry[1][root]  #low\n",
    "#             print(tempDict[root])\n",
    "                \n",
    "            if((value in tempDict[root])==False):\n",
    "                result = \"Null\"\n",
    "                break;\n",
    "            elif(tempDict[root][value]==0 or tempDict[root][value]==1):\n",
    "                result = tempDict[root][value]\n",
    "                break;\n",
    "            elif(value in df[root].values):\n",
    "                result = tempDict[root][value]\n",
    "                tempDict = tempDict[root][value]\n",
    "                tempDict = list(tempDict)[0]\n",
    "                root = list(list(result)[0])[0]\n",
    "            else:\n",
    "                result = \"Null\"\n",
    "                break\n",
    "        if result != \"Null\":\n",
    "            out.append(result)\n",
    "        else:\n",
    "            out.append(\"N.A\")\n",
    "    return out"
   ]
  },
  {
   "cell_type": "code",
   "execution_count": 15,
   "metadata": {},
   "outputs": [],
   "source": [
    "tree,root1 = dec_tree(df)\n",
    "# print(tree)\n",
    "test_sample = pd.read_csv('decision_Tree/sample_test.csv')"
   ]
  },
  {
   "cell_type": "code",
   "execution_count": 413,
   "metadata": {},
   "outputs": [
    {
     "name": "stdout",
     "output_type": "stream",
     "text": [
      "111111111\n",
      "salary\n",
      "medium\n",
      "111111111\n",
      "sales\n",
      "product_mng\n",
      "111111111\n",
      "Work_accident\n",
      "0\n",
      "111111111\n",
      "promotion_last_5years\n",
      "0\n",
      "111111111\n",
      "salary\n",
      "medium\n",
      "111111111\n",
      "sales\n",
      "accounting\n",
      "111111111\n",
      "Work_accident\n",
      "1\n",
      "111111111\n",
      "promotion_last_5years\n",
      "0\n"
     ]
    },
    {
     "data": {
      "text/plain": [
       "[0, 0]"
      ]
     },
     "execution_count": 413,
     "metadata": {},
     "output_type": "execute_result"
    }
   ],
   "source": [
    "predict(tree,test_sample)"
   ]
  },
  {
   "cell_type": "code",
   "execution_count": null,
   "metadata": {},
   "outputs": [],
   "source": []
  }
 ],
 "metadata": {
  "kernelspec": {
   "display_name": "Python 3",
   "language": "python",
   "name": "python3"
  },
  "language_info": {
   "codemirror_mode": {
    "name": "ipython",
    "version": 3
   },
   "file_extension": ".py",
   "mimetype": "text/x-python",
   "name": "python",
   "nbconvert_exporter": "python",
   "pygments_lexer": "ipython3",
   "version": "3.5.2"
  }
 },
 "nbformat": 4,
 "nbformat_minor": 2
}
